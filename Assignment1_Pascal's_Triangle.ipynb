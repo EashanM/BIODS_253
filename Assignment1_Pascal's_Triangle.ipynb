{
 "cells": [
  {
   "cell_type": "code",
   "id": "initial_id",
   "metadata": {
    "collapsed": true,
    "ExecuteTime": {
     "end_time": "2025-01-12T07:06:26.513785Z",
     "start_time": "2025-01-12T07:06:26.507913Z"
    }
   },
   "source": [
    "import numpy as np\n",
    "from math import comb"
   ],
   "outputs": [],
   "execution_count": 28
  },
  {
   "metadata": {
    "ExecuteTime": {
     "end_time": "2025-01-12T07:08:00.811309Z",
     "start_time": "2025-01-12T07:08:00.803881Z"
    }
   },
   "cell_type": "code",
   "source": [
    "# Q3:\n",
    "\n",
    "for i in range(10):\n",
    "    for j in range(10-i+1):\n",
    "        print(end=\" \")\n",
    "    for j in range(1+i):\n",
    "        print(comb(i,j), end=\" \")\n",
    "    print(\"\\n\")"
   ],
   "id": "d929fb2ff4e2b9ba",
   "outputs": [
    {
     "name": "stdout",
     "output_type": "stream",
     "text": [
      "           1 \n",
      "\n",
      "          1 1 \n",
      "\n",
      "         1 2 1 \n",
      "\n",
      "        1 3 3 1 \n",
      "\n",
      "       1 4 6 4 1 \n",
      "\n",
      "      1 5 10 10 5 1 \n",
      "\n",
      "     1 6 15 20 15 6 1 \n",
      "\n",
      "    1 7 21 35 35 21 7 1 \n",
      "\n",
      "   1 8 28 56 70 56 28 8 1 \n",
      "\n",
      "  1 9 36 84 126 126 84 36 9 1 \n",
      "\n"
     ]
    }
   ],
   "execution_count": 32
  },
  {
   "metadata": {
    "ExecuteTime": {
     "end_time": "2025-01-12T07:09:39.592900Z",
     "start_time": "2025-01-12T07:09:39.583639Z"
    }
   },
   "cell_type": "code",
   "source": [
    "# General function; I wrote this first but didn't realize Q3 needed to be specific to 10 lines\n",
    "\n",
    "def pascal_triangle(n):\n",
    "    for i in range(n):\n",
    "        for j in range(n-i+1):\n",
    "            print(end=\" \")\n",
    "        for j in range(i+1):\n",
    "            print(comb(i,j), end=\" \")\n",
    "        print(\"\\n\")"
   ],
   "id": "6187cd10436da2e3",
   "outputs": [],
   "execution_count": 33
  },
  {
   "metadata": {
    "ExecuteTime": {
     "end_time": "2025-01-12T07:09:40.704583Z",
     "start_time": "2025-01-12T07:09:40.700705Z"
    }
   },
   "cell_type": "code",
   "source": "pascal_triangle(10)",
   "id": "6323582c87f05205",
   "outputs": [
    {
     "name": "stdout",
     "output_type": "stream",
     "text": [
      "           1 \n",
      "\n",
      "          1 1 \n",
      "\n",
      "         1 2 1 \n",
      "\n",
      "        1 3 3 1 \n",
      "\n",
      "       1 4 6 4 1 \n",
      "\n",
      "      1 5 10 10 5 1 \n",
      "\n",
      "     1 6 15 20 15 6 1 \n",
      "\n",
      "    1 7 21 35 35 21 7 1 \n",
      "\n",
      "   1 8 28 56 70 56 28 8 1 \n",
      "\n",
      "  1 9 36 84 126 126 84 36 9 1 \n",
      "\n"
     ]
    }
   ],
   "execution_count": 34
  },
  {
   "metadata": {},
   "cell_type": "code",
   "outputs": [],
   "execution_count": null,
   "source": "",
   "id": "152029320ecd20d0"
  }
 ],
 "metadata": {
  "kernelspec": {
   "display_name": "Python 3",
   "language": "python",
   "name": "python3"
  },
  "language_info": {
   "codemirror_mode": {
    "name": "ipython",
    "version": 2
   },
   "file_extension": ".py",
   "mimetype": "text/x-python",
   "name": "python",
   "nbconvert_exporter": "python",
   "pygments_lexer": "ipython2",
   "version": "2.7.6"
  }
 },
 "nbformat": 4,
 "nbformat_minor": 5
}
